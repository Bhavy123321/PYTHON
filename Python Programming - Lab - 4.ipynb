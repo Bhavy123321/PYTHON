{
 "cells": [
  {
   "cell_type": "markdown",
   "metadata": {},
   "source": [
    "\n",
    "<a href='https://www.darshan.ac.in/'> <img src='https://www.darshan.ac.in/Content/media/DU_Logo.svg' width=\"250\" height=\"300\"/></a>\n",
    "<pre>\n",
    "<center><b><h1>Python Programming - 2301CS404</b></center>\n",
    "    <center><b><h1>Bhavy Soni</b></center>    \n",
    "        <center><b><h1>23010101258</b></center>    \n",
    "            <center><b><h1>18-12-20024</b></center>    \n",
    "<center><b><h1>Lab - 4</b></center>    \n",
    "<pre>"
   ]
  },
  {
   "cell_type": "markdown",
   "metadata": {},
   "source": [
    "# String"
   ]
  },
  {
   "cell_type": "markdown",
   "metadata": {},
   "source": [
    "### 01) WAP to check whether the given string is palindrome or not."
   ]
  },
  {
   "cell_type": "code",
   "execution_count": null,
   "metadata": {},
   "outputs": [],
   "source": [
    "x=input(\"Enter String:\")\n",
    "y=x[::-1]\n",
    "if(x==y):\n",
    "    print(\"Entered String is Pallindrome\")\n",
    "else:\n",
    "    print(\"Entered String is not Pallindrome\")"
   ]
  },
  {
   "cell_type": "markdown",
   "metadata": {},
   "source": [
    "### 02) WAP to reverse the words in the given string."
   ]
  },
  {
   "cell_type": "code",
   "execution_count": null,
   "metadata": {},
   "outputs": [],
   "source": [
    "x = input(\"Enter String : \")\n",
    "print(f\"Revers of String is {x[::-1]}\")"
   ]
  },
  {
   "cell_type": "markdown",
   "metadata": {},
   "source": [
    "### 03) WAP to remove ith character from given string."
   ]
  },
  {
   "cell_type": "code",
   "execution_count": null,
   "metadata": {},
   "outputs": [],
   "source": [
    "x = input(\"Enter String : \")\n",
    "n = int(input(\"Enter ith index : \"))\n",
    "\n",
    "ans = x[:n] + x[n+1:]\n",
    "\n",
    "print(ans)"
   ]
  },
  {
   "cell_type": "markdown",
   "metadata": {},
   "source": [
    "### 04) WAP to find length of string without using len function."
   ]
  },
  {
   "cell_type": "code",
   "execution_count": null,
   "metadata": {},
   "outputs": [],
   "source": [
    "x=input(\"Enter a String:\")\n",
    "count=0\n",
    "for i in x:\n",
    "    count=count+1\n",
    "print(count)    "
   ]
  },
  {
   "cell_type": "markdown",
   "metadata": {},
   "source": [
    "### 05) WAP to print even length word in string."
   ]
  },
  {
   "cell_type": "code",
   "execution_count": null,
   "metadata": {},
   "outputs": [],
   "source": [
    "x = input(\"Enter String : \")\n",
    "s = x.split()\n",
    "for i in range(0,len(s),1)  :\n",
    "    if(len(s[i]) %2 == 0) :\n",
    "        print(s[i])"
   ]
  },
  {
   "cell_type": "markdown",
   "metadata": {},
   "source": [
    "### 06) WAP to count numbers of vowels in given string."
   ]
  },
  {
   "cell_type": "code",
   "execution_count": null,
   "metadata": {},
   "outputs": [],
   "source": [
    "x = input(\"Enter String : \")\n",
    "y = ['a','e','i','o','u','A','E','I','O','U']\n",
    "count = 0\n",
    "\n",
    "for i in range(0,len(x)):\n",
    "    if(x[i] in y):\n",
    "        count+=1\n",
    "print(count) \n",
    "     "
   ]
  },
  {
   "cell_type": "markdown",
   "metadata": {},
   "source": [
    "### 07) WAP to capitalize the first and last character of each word in a string."
   ]
  },
  {
   "cell_type": "code",
   "execution_count": null,
   "metadata": {},
   "outputs": [],
   "source": [
    "x = input(\"Enter String: \")\n",
    "s = x.split()\n",
    "final = \"\"     \n",
    "for i in range(0, len(s)):\n",
    "    word = s[i]\n",
    "    if len(word) == 1:\n",
    "        final += word.upper() + \" \"  \n",
    "    else:\n",
    "        final += word[0].upper() + word[1:-1] + word[-1].upper() + \" \"\n",
    "\n",
    "print(final)"
   ]
  },
  {
   "cell_type": "markdown",
   "metadata": {},
   "source": [
    "### 08) WAP to convert given array to string."
   ]
  },
  {
   "cell_type": "code",
   "execution_count": null,
   "metadata": {},
   "outputs": [],
   "source": [
    "array = input(\"Enter Array element : \").split(\",\")\n",
    "result = \" \".join(array)\n",
    "print(\"Array:\", array)\n",
    "print(\"String:\", result)"
   ]
  },
  {
   "cell_type": "markdown",
   "metadata": {},
   "source": [
    "### 09) Check if the password and confirm password is same or not. \n",
    "### In case of only case's mistake, show the error message."
   ]
  },
  {
   "cell_type": "code",
   "execution_count": null,
   "metadata": {},
   "outputs": [],
   "source": [
    "x = input(\"Enter password\")\n",
    "y=input(\"reenter your password\")\n",
    "if(y==x):\n",
    "    print(\"password mathced\")\n",
    "elif(y.islower()!=x.islower()):\n",
    "    print(\"please check the case of your password\")\n",
    "else:\n",
    "    print(\"Password doesn't matched\")        "
   ]
  },
  {
   "cell_type": "markdown",
   "metadata": {},
   "source": [
    "### 10) : Display credit card number. \n",
    "### card no. : 1234 5678 9012 3456\n",
    "### display as  : **** **** **** 3456"
   ]
  },
  {
   "cell_type": "code",
   "execution_count": null,
   "metadata": {},
   "outputs": [],
   "source": [
    "x =(input(\"Enter your card number of 19 digits with 3 spaces:\"))\n",
    "for i in x[:len(x)-4]:\n",
    "    if i.isdigit():\n",
    "        print(\"*\",end='')\n",
    "    else:\n",
    "        print(i,end='')\n",
    "for i in x[len(x)-4:]:\n",
    "    print(i,end='')"
   ]
  },
  {
   "cell_type": "markdown",
   "metadata": {},
   "source": [
    "### 11) : Checking if the two strings are Anagram or not.\n",
    "### s1 = decimal and s2 = medical are Anagram"
   ]
  },
  {
   "cell_type": "code",
   "execution_count": null,
   "metadata": {},
   "outputs": [],
   "source": [
    "x = input(\"Enter 1st String : \")\n",
    "y = input(\"Enter 2nd String : \")\n",
    "\n",
    "xl = list(x.lower())\n",
    "yl = list(y.lower())\n",
    "xl.sort()\n",
    "yl.sort()\n",
    "\n",
    "if(xl == yl) :\n",
    "    print(\"Anagram\")\n",
    "else :\n",
    "    print(\"Not Anagram\")"
   ]
  },
  {
   "cell_type": "markdown",
   "metadata": {},
   "source": [
    "### 12) : Rearrange the given string. First lowercase then uppercase alphabets.\n",
    "### input : EHlsarwiwhtwMV\n",
    "### output : lsarwiwhtwEHMV"
   ]
  },
  {
   "cell_type": "code",
   "execution_count": null,
   "metadata": {},
   "outputs": [],
   "source": [
    "x = input(\"Enter String : \")\n",
    "l = len(x)\n",
    "lower = \"\"\n",
    "upper = \"\"\n",
    "\n",
    "for i in range(l) :\n",
    "    if(x[i].islower()) :\n",
    "        lower += x[i]\n",
    "    else :  \n",
    "        upper += x[i] \n",
    "print(lower+upper)"
   ]
  }
 ],
 "metadata": {
  "kernelspec": {
   "display_name": "Python 3",
   "language": "python",
   "name": "python3"
  },
  "language_info": {
   "codemirror_mode": {
    "name": "ipython",
    "version": 3
   },
   "file_extension": ".py",
   "mimetype": "text/x-python",
   "name": "python",
   "nbconvert_exporter": "python",
   "pygments_lexer": "ipython3",
   "version": "3.13.0"
  }
 },
 "nbformat": 4,
 "nbformat_minor": 4
}
