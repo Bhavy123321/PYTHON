{
 "cells": [
  {
   "cell_type": "markdown",
   "metadata": {},
   "source": [
    "\n",
    "<a href='https://www.darshan.ac.in/'> <img src='https://www.darshan.ac.in/Content/media/DU_Logo.svg' width=\"250\" height=\"300\"/></a>\n",
    "<pre>\n",
    "<center><b><h1>Python Programming - 2301CS404</b></center>\n",
    "<center><b><h1>Bhavy Soni</b></center>\n",
    "<center><b><h1>23010101258</b></center>\n",
    "<center><b><h1>01/01/2025</b></center>\n",
    "<center><b><h1>Lab - 5</b></center>    \n",
    "<pre>\n"
   ]
  },
  {
   "cell_type": "markdown",
   "metadata": {},
   "source": [
    "# List"
   ]
  },
  {
   "cell_type": "markdown",
   "metadata": {},
   "source": [
    "### 01) WAP to find sum of all the elements in a List."
   ]
  },
  {
   "cell_type": "code",
   "execution_count": 2,
   "metadata": {},
   "outputs": [
    {
     "name": "stdout",
     "output_type": "stream",
     "text": [
      "Sum of all the elements are: 15\n"
     ]
    }
   ],
   "source": [
    "L=[1,2,3,4,5]\n",
    "sum=0\n",
    "for i in range(0,len(L)+1):\n",
    "    sum+=i\n",
    "print(\"Sum of all the elements are:\",sum)    "
   ]
  },
  {
   "cell_type": "markdown",
   "metadata": {},
   "source": [
    "### 02) WAP to find largest element in a List."
   ]
  },
  {
   "cell_type": "code",
   "execution_count": null,
   "metadata": {},
   "outputs": [],
   "source": [
    "L = []\n",
    "while True:\n",
    "    x = int(input(\"Enter Numbers you want\"))\n",
    "    if x != 0:\n",
    "        L.append(x)\n",
    "    elif(x == 0):\n",
    "        break\n",
    "max=L[0]\n",
    "for i in L:\n",
    "    if(i>max):\n",
    "        max=i\n",
    "print(\"Largest number is:\",max)        "
   ]
  },
  {
   "cell_type": "markdown",
   "metadata": {},
   "source": [
    "### 03) WAP to find the length of a List."
   ]
  },
  {
   "cell_type": "code",
   "execution_count": 1,
   "metadata": {},
   "outputs": [
    {
     "name": "stdout",
     "output_type": "stream",
     "text": [
      "Length of the tupple is: 5\n"
     ]
    }
   ],
   "source": [
    "L=[1,2,3,4,5]\n",
    "count=0\n",
    "\n",
    "for i in L:\n",
    "    count+=1 \n",
    "print(\"Length of the tupple is:\",count)       "
   ]
  },
  {
   "cell_type": "markdown",
   "metadata": {},
   "source": [
    "### 04) WAP to interchange first and last elements in a list."
   ]
  },
  {
   "cell_type": "code",
   "execution_count": 4,
   "metadata": {},
   "outputs": [
    {
     "name": "stdout",
     "output_type": "stream",
     "text": [
      "Updated List is:  [6, 2, 3, 4, 5, 1]\n"
     ]
    }
   ],
   "source": [
    "L=[]\n",
    "while True:\n",
    "    x = int(input(\"Enter numbers you want\"))\n",
    "    if(x!=0):\n",
    "        L.append(x)\n",
    "    elif(x==0):\n",
    "        break    \n",
    "temp = L[0]\n",
    "L[0] = L[-1]\n",
    "L[-1] = temp\n",
    "print(\"Updated List is: \",L)\n"
   ]
  },
  {
   "cell_type": "markdown",
   "metadata": {},
   "source": [
    "### 05) WAP to split the List into two parts and append the first part to the end."
   ]
  },
  {
   "cell_type": "code",
   "execution_count": 5,
   "metadata": {},
   "outputs": [
    {
     "name": "stdout",
     "output_type": "stream",
     "text": [
      "First Part: [1, 2, 3]\n",
      "Second Part: [4, 5, 6]\n"
     ]
    }
   ],
   "source": [
    "L=[1,2,3,4,5,6]\n",
    "l1=L[:len(L)//2]\n",
    "l2=L[len(L)//2:]\n",
    "\n",
    "print(\"First Part:\",l1)\n",
    "print(\"Second Part:\",l2)\n"
   ]
  },
  {
   "cell_type": "markdown",
   "metadata": {},
   "source": [
    "### 06) WAP to interchange the elements on two positions entered by a user."
   ]
  },
  {
   "cell_type": "code",
   "execution_count": 8,
   "metadata": {},
   "outputs": [
    {
     "name": "stdout",
     "output_type": "stream",
     "text": [
      "Updated List is:  [1, 6, 3, 4, 5, 2]\n"
     ]
    }
   ],
   "source": [
    "L=[1,2,3,4,5,6]\n",
    "i1=int(input(\"Enter First Index To Interchange: \"))    \n",
    "i2=int(input(\"Enter Second Index To Interchange: \"))    \n",
    "temp = L[i1]\n",
    "L[i1] = L[i2]\n",
    "L[i2] = temp\n",
    "print(\"Updated List is: \",L)"
   ]
  },
  {
   "cell_type": "markdown",
   "metadata": {},
   "source": [
    "### 07) WAP to reverse the list entered by user."
   ]
  },
  {
   "cell_type": "code",
   "execution_count": 9,
   "metadata": {},
   "outputs": [
    {
     "name": "stdout",
     "output_type": "stream",
     "text": [
      "Reverse of entered list is: [6, 5, 4, 3, 2, 1]\n"
     ]
    }
   ],
   "source": [
    "l=[]\n",
    "while True:\n",
    "    x=int(input(\"Enter list elements:\"))\n",
    "    if(x!=0):\n",
    "        l.append(x)\n",
    "    else:\n",
    "        break\n",
    "print(\"Reverse of entered list is:\",l[::-1])        "
   ]
  },
  {
   "cell_type": "markdown",
   "metadata": {},
   "source": [
    "### 08) WAP to print even numbers in a list."
   ]
  },
  {
   "cell_type": "code",
   "execution_count": 12,
   "metadata": {},
   "outputs": [
    {
     "name": "stdout",
     "output_type": "stream",
     "text": [
      "Even nubers in list are: [2, 4, 6]\n"
     ]
    }
   ],
   "source": [
    "l=[1,2,3,4,5,6]\n",
    "el=[]\n",
    "for i in l:\n",
    "    if(i%2==0):\n",
    "        el.append(i)\n",
    "        i+=1\n",
    "    else:\n",
    "        i+=1\n",
    "print(\"Even nubers in list are:\",el)        "
   ]
  },
  {
   "cell_type": "markdown",
   "metadata": {},
   "source": [
    "### 09) WAP to count unique items in a list."
   ]
  },
  {
   "cell_type": "code",
   "execution_count": 33,
   "metadata": {},
   "outputs": [
    {
     "name": "stdout",
     "output_type": "stream",
     "text": [
      "5\n"
     ]
    }
   ],
   "source": [
    "l1=[1,2,3,4,5,1,2]\n",
    "s=list(set(l1))\n",
    "print(len(s))\n"
   ]
  },
  {
   "cell_type": "markdown",
   "metadata": {},
   "source": [
    "### 10) WAP to copy a list."
   ]
  },
  {
   "cell_type": "code",
   "execution_count": 35,
   "metadata": {},
   "outputs": [
    {
     "name": "stdout",
     "output_type": "stream",
     "text": [
      "[1, 2, 3, 4, 5, 1, 2]\n"
     ]
    }
   ],
   "source": [
    "l1=[1,2,3,4,5,1,2]\n",
    "cl=l1.copy()\n",
    "print(cl)"
   ]
  },
  {
   "cell_type": "markdown",
   "metadata": {},
   "source": [
    "### 11) WAP to print all odd numbers in a given range."
   ]
  },
  {
   "cell_type": "code",
   "execution_count": 36,
   "metadata": {},
   "outputs": [
    {
     "name": "stdout",
     "output_type": "stream",
     "text": [
      "1\n",
      "3\n",
      "5\n"
     ]
    }
   ],
   "source": [
    "n = int(input(\"Enter tye range number\"))\n",
    "for i in range(0,n+1):\n",
    "    if (i%2 != 0):\n",
    "        print(i)"
   ]
  },
  {
   "cell_type": "markdown",
   "metadata": {},
   "source": [
    "### 12) WAP to count occurrences of an element in a list."
   ]
  },
  {
   "cell_type": "code",
   "execution_count": 39,
   "metadata": {},
   "outputs": [
    {
     "name": "stdout",
     "output_type": "stream",
     "text": [
      "4\n"
     ]
    }
   ],
   "source": [
    "l1=[1,2,3,4,5,6,6,6,7,5,6]\n",
    "print(l1.count(6))"
   ]
  },
  {
   "cell_type": "markdown",
   "metadata": {},
   "source": [
    "### 13) WAP to find second largest number in a list."
   ]
  },
  {
   "cell_type": "code",
   "execution_count": 41,
   "metadata": {},
   "outputs": [
    {
     "name": "stdout",
     "output_type": "stream",
     "text": [
      "4\n"
     ]
    }
   ],
   "source": [
    "l1=[1,2,3,4,5,1,2]\n",
    "l1.sort()\n",
    "print(l1[-2])"
   ]
  },
  {
   "cell_type": "markdown",
   "metadata": {},
   "source": [
    "### 14) WAP to extract elements with frequency greater than K."
   ]
  },
  {
   "cell_type": "code",
   "execution_count": 2,
   "metadata": {},
   "outputs": [
    {
     "name": "stdout",
     "output_type": "stream",
     "text": [
      "{1, 2, 3, 4, 5, 6}\n",
      "1\n",
      "2\n",
      "3\n"
     ]
    }
   ],
   "source": [
    "l = [1,2,3,4,3,2,1,4,6,1,2,3,3,2,1,4,5,6]\n",
    "s = set(l)\n",
    "print(s)\n",
    "k = 3\n",
    "\n",
    "for i in set(l):\n",
    "    if l.count(i) > k:\n",
    "        print(i)"
   ]
  },
  {
   "cell_type": "markdown",
   "metadata": {},
   "source": [
    "### 15) WAP to create a list of squared numbers from 0 to 9 with and without using List Comprehension."
   ]
  },
  {
   "cell_type": "code",
   "execution_count": 46,
   "metadata": {},
   "outputs": [
    {
     "name": "stdout",
     "output_type": "stream",
     "text": [
      "[0, 1, 4, 9, 16, 25, 36, 49, 64, 81]\n"
     ]
    }
   ],
   "source": [
    "# WITHOUT COMPREHENTION\n",
    "# l1=[0,1,2,3,4,5,6,7,8,9]\n",
    "# l2=[]\n",
    "# for i in l1:\n",
    "#     x=i**2\n",
    "#     l2.append(x)\n",
    "#     i+=1\n",
    "# print(l2)\n",
    "# WITH COMPREHENTION\n",
    "l1=[i**2 for i in range(0,10)] \n",
    "print(l1)"
   ]
  },
  {
   "cell_type": "markdown",
   "metadata": {},
   "source": [
    "### 16) WAP to create a new list (fruit whose name starts with 'b') from the list of fruits given by user."
   ]
  },
  {
   "cell_type": "code",
   "execution_count": 49,
   "metadata": {},
   "outputs": [
    {
     "name": "stdout",
     "output_type": "stream",
     "text": [
      "['banana', 'bat']\n"
     ]
    }
   ],
   "source": [
    "a = []\n",
    "ans = []\n",
    "while True:\n",
    "    s = (input(\"Enter a number:\"))\n",
    "    if s != '0':\n",
    "        a.append(s)\n",
    "    elif(s == '0'):\n",
    "        break\n",
    "for i in a:\n",
    "    if i[0] == 'b' or i[0] == 'B':\n",
    "        ans.append(i)\n",
    "print(ans)"
   ]
  },
  {
   "cell_type": "markdown",
   "metadata": {},
   "source": [
    "### 17) WAP to create a list of common elements from given two lists."
   ]
  },
  {
   "cell_type": "code",
   "execution_count": 48,
   "metadata": {},
   "outputs": [
    {
     "name": "stdout",
     "output_type": "stream",
     "text": [
      "{1, 4, 5, 6, 8, 9}\n"
     ]
    }
   ],
   "source": [
    "l1=[1,2,3,5,6,4,8,9,10]\n",
    "l2=[5,23,5,8,4,1,6,9]\n",
    "\n",
    "l3 = set(l1).intersection(l2)\n",
    "print(l3)"
   ]
  }
 ],
 "metadata": {
  "kernelspec": {
   "display_name": "Python 3",
   "language": "python",
   "name": "python3"
  },
  "language_info": {
   "codemirror_mode": {
    "name": "ipython",
    "version": 3
   },
   "file_extension": ".py",
   "mimetype": "text/x-python",
   "name": "python",
   "nbconvert_exporter": "python",
   "pygments_lexer": "ipython3",
   "version": "3.13.0"
  }
 },
 "nbformat": 4,
 "nbformat_minor": 4
}
