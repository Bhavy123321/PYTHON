{
 "cells": [
  {
   "cell_type": "markdown",
   "metadata": {},
   "source": [
    "<a href='https://www.darshan.ac.in/'> <img src='https://www.darshan.ac.in/Content/media/DU_Logo.svg' width=\"250\" height=\"300\"/></a>\n",
    "<pre>\n",
    "<center><b><h1>Python Programming - 2301CS404</b></center>\n",
    "<center><b><h1>Lab - 9</b></center>    \n",
    "<center><b><h1>Bhavy Soni</b></center>    \n",
    "<center><b><h1>23010101258</b></center>    \n",
    "<center><b><h1>29/01/2024</b></center>    \n",
    "<pre>"
   ]
  },
  {
   "cell_type": "markdown",
   "metadata": {},
   "source": [
    "# File I/O"
   ]
  },
  {
   "cell_type": "markdown",
   "metadata": {},
   "source": [
    "### 01) WAP to read and display the contents of a text file. (also try to open the file in some other directory) \n",
    "#### - in the form of a string\n",
    "#### - line by line\n",
    "#### - in the form of a list"
   ]
  },
  {
   "cell_type": "code",
   "execution_count": 1,
   "metadata": {},
   "outputs": [
    {
     "name": "stdout",
     "output_type": "stream",
     "text": [
      "Hello Python\n",
      "My Name is Bhavy\n",
      "I am from Kutch\n",
      "My Enrollment Number is ......\n",
      "I Love Python\n",
      "My Hobby is to playing Cricket\n",
      "----------------------------Line by Line-------------------\n",
      "Hello Python\n",
      "\n",
      "-----------------------------------In The Form Of List--------------\n",
      "['Hello Python\\n', 'My Name is Bhavy\\n', 'I am from Kutch\\n', 'My Enrollment Number is ......\\n', 'I Love Python\\n', 'My Hobby is to playing Cricket']\n"
     ]
    }
   ],
   "source": [
    "fp = open(\"f_1.txt\",\"rt\")\n",
    "print(fp.read())\n",
    "fp.close()\n",
    "\n",
    "print('----------------------------Line by Line-------------------')\n",
    "\n",
    "fp=open(\"f_1.txt\",\"r\")\n",
    "print(fp.readline())\n",
    "fp.close()\n",
    "\n",
    "print('-----------------------------------In The Form Of List--------------')\n",
    "\n",
    "fp=open(\"f_1.txt\",\"r\")\n",
    "print(fp.readlines())\n",
    "fp.close()\n"
   ]
  },
  {
   "cell_type": "markdown",
   "metadata": {},
   "source": [
    "### 02) WAP to create file named \"new.txt\" only if it doesn't exist."
   ]
  },
  {
   "cell_type": "code",
   "execution_count": 2,
   "metadata": {},
   "outputs": [],
   "source": [
    "fp=open(\"new.txt\",'w')\n"
   ]
  },
  {
   "cell_type": "markdown",
   "metadata": {},
   "source": [
    "### 03) WAP to read first 5 lines from the text file."
   ]
  },
  {
   "cell_type": "code",
   "execution_count": 3,
   "metadata": {},
   "outputs": [
    {
     "name": "stdout",
     "output_type": "stream",
     "text": [
      "Hello Python\n",
      "My Name is Bhavy\n",
      "I am from Kutch\n",
      "My Enrollment Number is ......\n",
      "I Love Python\n"
     ]
    }
   ],
   "source": [
    "fp = open(\"f_1.txt\",'r')\n",
    "for i in range(0,5):\n",
    "    print(fp.readline(),end=\"\")\n",
    "fp.close()"
   ]
  },
  {
   "cell_type": "markdown",
   "metadata": {},
   "source": [
    "### 04) WAP to find the longest word(s) in a file"
   ]
  },
  {
   "cell_type": "code",
   "execution_count": 4,
   "metadata": {},
   "outputs": [
    {
     "name": "stdout",
     "output_type": "stream",
     "text": [
      "Longest Word in This File Is::::: Enrollment\n"
     ]
    }
   ],
   "source": [
    "fp = open(\"f_1.txt\",'r')\n",
    "word = fp.read().split()\n",
    "long = max(word,key=len)\n",
    "print(\"Longest Word in This File Is:::::\",long)"
   ]
  },
  {
   "cell_type": "markdown",
   "metadata": {},
   "source": [
    "### 05) WAP to count the no. of lines, words and characters in a given text file."
   ]
  },
  {
   "cell_type": "code",
   "execution_count": 5,
   "metadata": {},
   "outputs": [
    {
     "name": "stdout",
     "output_type": "stream",
     "text": [
      "Lines in this files are::::,6\n",
      "Words in this files are::::,24\n",
      "Characters in this files are::::,121\n"
     ]
    }
   ],
   "source": [
    "fp = open(\"f_1.txt\",'r')\n",
    "file=fp.read()\n",
    "lines=file.splitlines()\n",
    "word = file.split()\n",
    "characters = len(file)\n",
    "\n",
    "print(f\"Lines in this files are::::,{len(lines)}\")\n",
    "print(f\"Words in this files are::::,{len(word)}\")\n",
    "print(f\"Characters in this files are::::,{characters}\")"
   ]
  },
  {
   "cell_type": "markdown",
   "metadata": {},
   "source": [
    "### 06) WAP to copy the content of a file to the another file."
   ]
  },
  {
   "cell_type": "code",
   "execution_count": 6,
   "metadata": {},
   "outputs": [
    {
     "data": {
      "text/plain": [
       "121"
      ]
     },
     "execution_count": 6,
     "metadata": {},
     "output_type": "execute_result"
    }
   ],
   "source": [
    "fp1 = open('f_1.txt','r')\n",
    "fp2 = open('new.txt','w')\n",
    "fp2.write(fp1.read())\n"
   ]
  },
  {
   "cell_type": "markdown",
   "metadata": {},
   "source": [
    "### 07) WAP to find the size of the text file. "
   ]
  },
  {
   "cell_type": "code",
   "execution_count": 7,
   "metadata": {},
   "outputs": [
    {
     "name": "stdout",
     "output_type": "stream",
     "text": [
      "Size of this file: 0 bytes\n"
     ]
    }
   ],
   "source": [
    "import os\n",
    "fs = os.path.getsize('new.txt')\n",
    "print('Size of this file:',fs,'bytes')"
   ]
  },
  {
   "cell_type": "markdown",
   "metadata": {},
   "source": [
    "### 08) WAP to create an UDF named frequency to count occurances of the specific word in a given text file."
   ]
  },
  {
   "cell_type": "code",
   "execution_count": 8,
   "metadata": {},
   "outputs": [
    {
     "name": "stdout",
     "output_type": "stream",
     "text": [
      "0\n"
     ]
    }
   ],
   "source": [
    "def funFreq(fs,word):\n",
    "    fp = open(fs,'r')\n",
    "    file = fp.read()\n",
    "    return file.lower().split().count(word.lower())\n",
    "\n",
    "\n",
    "fs='new.txt'\n",
    "word='python'\n",
    "count=funFreq(fs,word)\n",
    "print(count)"
   ]
  },
  {
   "cell_type": "markdown",
   "metadata": {},
   "source": [
    "### 09) WAP to get the score of five subjects from the user, store them in a file. Fetch those marks and find the highest score."
   ]
  },
  {
   "cell_type": "code",
   "execution_count": 9,
   "metadata": {},
   "outputs": [
    {
     "name": "stdout",
     "output_type": "stream",
     "text": [
      "highest marks 12\n",
      "\n"
     ]
    }
   ],
   "source": [
    "list_of_marks = [input(f\"Enter {i+1} subject mark\")+\"\\n\" for i in range(0, 5)]\n",
    "fp = open(\"file3.txt\", \"w\")\n",
    "fp.writelines(list_of_marks)\n",
    "fp.close()\n",
    "fp1 = open(\"file3.txt\", \"r\")\n",
    "data = fp1.readlines()\n",
    "print(\"highest marks\", max(data))\n",
    "fp.close()"
   ]
  },
  {
   "cell_type": "markdown",
   "metadata": {},
   "source": [
    "### 10) WAP to write first 100 prime numbers to a file named primenumbers.txt \n",
    "(Note: each number should be in new line)"
   ]
  },
  {
   "cell_type": "code",
   "execution_count": 10,
   "metadata": {},
   "outputs": [],
   "source": [
    "list_of_primeNumber = []\n",
    "for i in range(1, 101):\n",
    "    if (i == 1 or i == 2 or i == 3):\n",
    "        list_of_primeNumber.append(i)\n",
    "    else:\n",
    "        for j in range(2, i//2+1):\n",
    "            if (i%j == 0):\n",
    "                break\n",
    "        else:\n",
    "            list_of_primeNumber.append(i)\n",
    "\n",
    "fp = open(\"primenumbers.txt\", \"w\")\n",
    "fp.writelines(str(i)+\"\\n\" for i in list_of_primeNumber)\n",
    "fp.close()"
   ]
  },
  {
   "cell_type": "markdown",
   "metadata": {},
   "source": [
    "### 11) WAP to merge two files and write it in a new file."
   ]
  },
  {
   "cell_type": "code",
   "execution_count": 13,
   "metadata": {},
   "outputs": [
    {
     "name": "stdout",
     "output_type": "stream",
     "text": [
      "Darshan\n",
      " University\n",
      "data inserted.\n"
     ]
    }
   ],
   "source": [
    "fp1 = open(\"fp1.txt\", \"r\")\n",
    "data = fp1.read()\n",
    "print(data)\n",
    "fp1.close()\n",
    "fp2 = open(\"fp2.txt\", \"r\")\n",
    "data1 = fp2.read()\n",
    "print(data1)\n",
    "fp2.close()\n",
    "fp3 = open(\"fp3.txt\", \"w\")\n",
    "fp3.write(data + data1)\n",
    "print(\"data inserted.\")\n",
    "fp3.close()"
   ]
  },
  {
   "cell_type": "markdown",
   "metadata": {},
   "source": [
    "### 12) WAP to replace word1 by word2 of a text file. Write the updated data to new file."
   ]
  },
  {
   "cell_type": "code",
   "execution_count": 19,
   "metadata": {},
   "outputs": [
    {
     "name": "stdout",
     "output_type": "stream",
     "text": [
      "['Python']\n"
     ]
    }
   ],
   "source": [
    "def replaceWord(list, word, replaceWord):\n",
    "    updated_list = []\n",
    "    for lines in list:\n",
    "        updated_list.append(lines.replace(word, replaceWord))\n",
    "    return updated_list\n",
    "\n",
    "word = input(\"Enter word to replace\")\n",
    "replacedWord = input(\"Enter a word\")\n",
    "fp = open(\"fp1.txt\", \"r+\")\n",
    "data = fp.readlines()\n",
    "updated_data = replaceWord(data, word, replacedWord)\n",
    "print(updated_data)\n",
    "fp.close()"
   ]
  },
  {
   "cell_type": "markdown",
   "metadata": {},
   "source": [
    "### 13) Demonstrate tell() and seek() for all the cases(seek from beginning-end-current position) taking a suitable example of your choice."
   ]
  },
  {
   "cell_type": "code",
   "execution_count": 21,
   "metadata": {},
   "outputs": [
    {
     "name": "stdout",
     "output_type": "stream",
     "text": [
      "0\n",
      "2\n",
      "4\n",
      "9\n"
     ]
    }
   ],
   "source": [
    "fp = open(\"fp1.txt\", \"rb\")\n",
    "print(fp.tell())\n",
    "fp.seek(2,0)\n",
    "print(fp.tell())\n",
    "fp.seek(2,1)\n",
    "print(fp.tell())\n",
    "fp.seek(2,2)\n",
    "print(fp.tell())\n",
    "fp.close()"
   ]
  }
 ],
 "metadata": {
  "kernelspec": {
   "display_name": "Python 3",
   "language": "python",
   "name": "python3"
  },
  "language_info": {
   "codemirror_mode": {
    "name": "ipython",
    "version": 3
   },
   "file_extension": ".py",
   "mimetype": "text/x-python",
   "name": "python",
   "nbconvert_exporter": "python",
   "pygments_lexer": "ipython3",
   "version": "3.13.0"
  }
 },
 "nbformat": 4,
 "nbformat_minor": 4
}
