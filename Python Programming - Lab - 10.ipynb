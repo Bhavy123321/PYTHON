{
 "cells": [
  {
   "cell_type": "markdown",
   "metadata": {},
   "source": [
    "<a href='https://www.darshan.ac.in/'> <img src='https://www.darshan.ac.in/Content/media/DU_Logo.svg' width=\"250\" height=\"300\"/></a>\n",
    "<pre>\n",
    "<center><b><h1>Python Programming - 2301CS404</b></center>\n",
    "<center><b><h1>Bhavy Soni</b></center>\n",
    "<center><b><h1>23010101258</b></center>\n",
    "<center><b><h1>05/02/2025</b></center>\n",
    "<center><b><h1>Lab - 10</b></center>    \n",
    "<pre>"
   ]
  },
  {
   "cell_type": "markdown",
   "metadata": {},
   "source": [
    "# Exception Handling"
   ]
  },
  {
   "cell_type": "markdown",
   "metadata": {},
   "source": [
    "### 01) WAP to handle following exceptions:\n",
    "1. ZeroDivisionError\n",
    "2. ValueError\n",
    "3. TypeError\n",
    "#### Note: handle them using separate except blocks and also using single except block too."
   ]
  },
  {
   "cell_type": "code",
   "execution_count": 5,
   "metadata": {},
   "outputs": [
    {
     "name": "stdout",
     "output_type": "stream",
     "text": [
      "Zero Division Error\n"
     ]
    }
   ],
   "source": [
    "try:\n",
    "    a = int(input(\"Enter first number : \"))\n",
    "    b = int(input(\"Enter second number : \"))\n",
    "    c = a // b \n",
    "    print(c)\n",
    "    print(2 + '3')\n",
    "except ZeroDivisionError:\n",
    "    print(\"Can not divide a number by 0.\")\n",
    "except ValueError:\n",
    "    print(\"Please enter valid integer number, string is not allowed.\")\n",
    "except:\n",
    "    print(\"Some Runtime Error.\")"
   ]
  },
  {
   "cell_type": "markdown",
   "metadata": {},
   "source": [
    "### 02)  WAP to handle following exceptions:\n",
    "1. IndexError\n",
    "2. KeyError"
   ]
  },
  {
   "cell_type": "code",
   "execution_count": null,
   "metadata": {},
   "outputs": [],
   "source": [
    "# list_length = int(input(\"Enter length of list\"))\n",
    "# list = [input(\"Enter element of list\") for i in range(0, list_length)]\n",
    "# try:\n",
    "#     index = int(input(\"Enter a index\"))\n",
    "#     print(list[index])\n",
    "# except IndexError as err:\n",
    "    # print(err)\n",
    "\n",
    " \n",
    "subjects = {1: 'Maths', \n",
    "\t\t\t2: 'Biology', \n",
    "\t\t\t3: 'Science', \n",
    "\t\t\t4: 'Hindi'} \n",
    "try: \n",
    "    num = int(input(\"Enter a number to know subject name\"))\n",
    "    print(subjects[num])\n",
    "except KeyError : \n",
    "\tprint(\"key error\")"
   ]
  },
  {
   "cell_type": "markdown",
   "metadata": {},
   "source": [
    "### 03) WAP to handle following exceptions:\n",
    "1. FileNotFoundError\n",
    "2. ModuleNotFoundError"
   ]
  },
  {
   "cell_type": "code",
   "execution_count": 3,
   "metadata": {},
   "outputs": [
    {
     "name": "stdout",
     "output_type": "stream",
     "text": [
      "file not found\n"
     ]
    }
   ],
   "source": [
    "try:\n",
    "    fp = open('fp6.txt','r')\n",
    "    print(fp.read())\n",
    "    fp.close()\n",
    "\n",
    "except:\n",
    "    print(\"file not found\")"
   ]
  },
  {
   "cell_type": "code",
   "execution_count": 4,
   "metadata": {},
   "outputs": [
    {
     "name": "stdout",
     "output_type": "stream",
     "text": [
      "Module Not Found\n"
     ]
    }
   ],
   "source": [
    "try:\n",
    "    x = int(input(\"Enter Radius Of Circle:\"))\n",
    "    print(math.pi*x*x)\n",
    "except:\n",
    "    print(\"Module Not Found\")    "
   ]
  },
  {
   "cell_type": "markdown",
   "metadata": {},
   "source": [
    "### 04) WAP that catches all type of exceptions in a single except block."
   ]
  },
  {
   "cell_type": "code",
   "execution_count": 6,
   "metadata": {},
   "outputs": [
    {
     "name": "stdout",
     "output_type": "stream",
     "text": [
      "Some Exception Occured\n"
     ]
    }
   ],
   "source": [
    "try:\n",
    "    fp = open('fp6.txt','r')\n",
    "    print(fp.read())\n",
    "    fp.close()    \n",
    "except Exception:\n",
    "    print(\"Some Exception Occured\")    "
   ]
  },
  {
   "cell_type": "markdown",
   "metadata": {},
   "source": [
    "### 05) WAP to demonstrate else  and finally block."
   ]
  },
  {
   "cell_type": "code",
   "execution_count": 10,
   "metadata": {},
   "outputs": [
    {
     "name": "stdout",
     "output_type": "stream",
     "text": [
      "Hello World\n",
      "finally Exucuted\n"
     ]
    }
   ],
   "source": [
    "try:\n",
    "    fp = open('newfile.txt','r')\n",
    "\n",
    "except:\n",
    "    print(\"file not found\")\n",
    "\n",
    "else:\n",
    "    print(fp.read())\n",
    "    fp.close()\n",
    "\n",
    "finally:\n",
    "    print(\"finally Exucuted\")    "
   ]
  },
  {
   "cell_type": "markdown",
   "metadata": {},
   "source": [
    "### 06) Create a short program that prompts the user for a list of grades separated by commas. \n",
    "### Split the string into individual grades and use a list comprehension to convert each string to an integer. \n",
    "### You should use a try statement to inform the user when the values they entered cannot be converted."
   ]
  },
  {
   "cell_type": "code",
   "execution_count": 12,
   "metadata": {},
   "outputs": [
    {
     "name": "stdout",
     "output_type": "stream",
     "text": [
      "Type Error\n"
     ]
    }
   ],
   "source": [
    "l1=[input(\"Enter List Elemtents\") for i in range(0,int(input(\"Enter Length  of List: \")))]\n",
    "try:\n",
    "    l1 = [int(i) for  i in l1]\n",
    "except:\n",
    "    print(\"Type Error\")"
   ]
  },
  {
   "cell_type": "markdown",
   "metadata": {},
   "source": [
    "### 07) WAP to create an udf divide(a,b) that handles ZeroDivisionError."
   ]
  },
  {
   "cell_type": "code",
   "execution_count": 18,
   "metadata": {},
   "outputs": [
    {
     "name": "stdout",
     "output_type": "stream",
     "text": [
      "integer division or modulo by zero\n"
     ]
    }
   ],
   "source": [
    "def division(a,b):\n",
    "    try:\n",
    "        return(a//b)\n",
    "    except ZeroDivisionError as err:\n",
    "         print(err) \n",
    "division(int(input(\"Enter First Number: \")),int(input(\"Enter Second Number:\")))"
   ]
  },
  {
   "cell_type": "markdown",
   "metadata": {},
   "source": [
    "### 08) WAP that gets an age of a person form the user and raises ValueError with error message: \"Enter Valid Age\" :\n",
    "#### If the age is less than 18. \n",
    "#### otherwise print the age."
   ]
  },
  {
   "cell_type": "code",
   "execution_count": 22,
   "metadata": {},
   "outputs": [
    {
     "name": "stdout",
     "output_type": "stream",
     "text": [
      "Age must be greater than 18\n"
     ]
    }
   ],
   "source": [
    "x:int(input(\"Enter Your Age: \"))\n",
    "\n",
    "try:\n",
    "    if (x>18):\n",
    "        print(\"Your Age Is Valid.\")\n",
    "    else:\n",
    "        raise ValueError('Age must be greater than 18')    \n",
    "except ValueError as err:\n",
    "    print(err)        "
   ]
  },
  {
   "cell_type": "markdown",
   "metadata": {},
   "source": [
    "### 09) WAP to raise your custom Exception named InvalidUsernameError with the error message : \"Username must be between 5 and 15 characters long\":\n",
    "#### if the given name is having characters less than 5 or greater than 15.\n",
    "#### otherwise print the given username."
   ]
  },
  {
   "cell_type": "code",
   "execution_count": 29,
   "metadata": {},
   "outputs": [
    {
     "name": "stdout",
     "output_type": "stream",
     "text": [
      "heello\n"
     ]
    }
   ],
   "source": [
    "class InvlidUserNameError(Exception):\n",
    "    def __init__(self,msg):\n",
    "        self.msg = msg\n",
    "username=input(\"Enter Your Username: \")\n",
    "\n",
    "try:\n",
    "    if(len(username)>5 and len(username)<15):\n",
    "        print(username)\n",
    "    else:\n",
    "        raise InvlidUserNameError()  \n",
    "      \n",
    "except InvlidUserNameError as exp:\n",
    "    print(exp)"
   ]
  },
  {
   "cell_type": "markdown",
   "metadata": {},
   "source": [
    "### 10) WAP to raise your custom Exception named NegativeNumberError with the error message : \"Cannot calculate the square root of a negative number\" :\n",
    "#### if the given number is negative.\n",
    "#### otherwise print the square root of the given number."
   ]
  },
  {
   "cell_type": "code",
   "execution_count": 33,
   "metadata": {},
   "outputs": [
    {
     "name": "stdout",
     "output_type": "stream",
     "text": [
      "25\n"
     ]
    }
   ],
   "source": [
    "class NegativeNumberError(Exception):\n",
    "    def __init__(self,msg):\n",
    "        self.msg=msg\n",
    "\n",
    "try:\n",
    "    x = int(input(\"Enter Number::\"))\n",
    "    t=x*x\n",
    "    if(x>0):\n",
    "        print(t)\n",
    "    else:\n",
    "        raise NegativeNumberError()\n",
    "    \n",
    "except NegativeNumberError as exp:\n",
    "    print(exp)        "
   ]
  }
 ],
 "metadata": {
  "kernelspec": {
   "display_name": "Python 3",
   "language": "python",
   "name": "python3"
  },
  "language_info": {
   "codemirror_mode": {
    "name": "ipython",
    "version": 3
   },
   "file_extension": ".py",
   "mimetype": "text/x-python",
   "name": "python",
   "nbconvert_exporter": "python",
   "pygments_lexer": "ipython3",
   "version": "3.13.0"
  }
 },
 "nbformat": 4,
 "nbformat_minor": 4
}
