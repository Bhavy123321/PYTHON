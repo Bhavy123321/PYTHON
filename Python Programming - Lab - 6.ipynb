{
 "cells": [
  {
   "attachments": {},
   "cell_type": "markdown",
   "metadata": {},
   "source": [
    "<a href='https://www.darshan.ac.in/'> <img src='https://www.darshan.ac.in/Content/media/DU_Logo.svg' width=\"250\" height=\"300\"/></a>\n",
    "<pre>\n",
    "<center><b><h1>Python Programming - 2301CS404</b></center>\n",
    "<center><b><h1>Bhavy Soni</b></center>\n",
    "<center><b><h1>23010101258</b></center>\n",
    "<center><b><h1>01/01/2025</b></center>\n",
    "<center><b><h1>Lab - 6</b></center>    \n",
    "<pre>"
   ]
  },
  {
   "cell_type": "markdown",
   "metadata": {},
   "source": [
    "# Tuple"
   ]
  },
  {
   "cell_type": "markdown",
   "metadata": {},
   "source": [
    "### 01) WAP to find sum of tuple elements."
   ]
  },
  {
   "cell_type": "code",
   "execution_count": 2,
   "metadata": {},
   "outputs": [
    {
     "name": "stdout",
     "output_type": "stream",
     "text": [
      "Sum of all elements in tupple: 15\n"
     ]
    }
   ],
   "source": [
    "t=(1,2,3,4,5)\n",
    "sum=0\n",
    "for i in t:\n",
    "    sum+=i\n",
    "print(\"Sum of all elements in tupple:\",sum)"
   ]
  },
  {
   "cell_type": "markdown",
   "metadata": {},
   "source": [
    "### 02) WAP to find Maximum and Minimum K elements in a given tuple."
   ]
  },
  {
   "cell_type": "code",
   "execution_count": 7,
   "metadata": {},
   "outputs": [
    {
     "name": "stdout",
     "output_type": "stream",
     "text": [
      "Maximmum number in tupple is: 6\n",
      "Minimum number in tupple is: 1\n"
     ]
    }
   ],
   "source": [
    "t = []\n",
    "n = int(input(\"Enter Size of tuple : \"))\n",
    "for i in range (n) :\n",
    "   t.append(int(input(f\"Enter {i+1}th element : \")))\n",
    "max=0\n",
    "min=1\n",
    "\n",
    "for i in t:\n",
    "    if(i<min):\n",
    "        min=i\n",
    "    elif(i>max):\n",
    "        max=i\n",
    "print(\"Maximmum number in tupple is:\",max)            \n",
    "print(\"Minimum number in tupple is:\",min)            "
   ]
  },
  {
   "cell_type": "markdown",
   "metadata": {},
   "source": [
    "### 03) WAP to find tuples which have all elements divisible by K from a list of tuples."
   ]
  },
  {
   "cell_type": "code",
   "execution_count": null,
   "metadata": {},
   "outputs": [
    {
     "name": "stdout",
     "output_type": "stream",
     "text": [
      "Your List of Tupple::::::: [(2, 4, 6, 8, 10)]\n"
     ]
    }
   ],
   "source": [
    "L = [(5,10,15,20,25),(2,4,6,8,10),(3,6,9,12,15)]\n",
    "\n",
    "T=[]\n",
    "\n",
    "k=int(input(\"Enter Kth Element: \"))\n",
    "\n",
    "for i in L:\n",
    "    count=1\n",
    "    for j in i:\n",
    "        if j%k==0:\n",
    "            count+=1\n",
    "            if(count==len(i)):\n",
    "                T.append(i) \n",
    "\n",
    "print(\"Your List of Tupple:::::::\",T)\n",
    "\n"
   ]
  },
  {
   "cell_type": "markdown",
   "metadata": {},
   "source": [
    "### 04) WAP to create a list of tuples from given list having number and its cube in each tuple."
   ]
  },
  {
   "cell_type": "code",
   "execution_count": 22,
   "metadata": {},
   "outputs": [
    {
     "name": "stdout",
     "output_type": "stream",
     "text": [
      "[(125, 1000, 3375, 8000, 15625), (8, 64, 216, 512, 1000)]\n"
     ]
    }
   ],
   "source": [
    "L = [(5,10,15,20,25),(2,4,6,8,10)]\n",
    "l2=[]\n",
    "for ele in L:\n",
    "    l2.append(tuple(i**3 for i in ele))\n",
    "print(l2)    "
   ]
  },
  {
   "cell_type": "markdown",
   "metadata": {},
   "source": [
    "### 05) WAP to find tuples with all positive elements from the given list of tuples."
   ]
  },
  {
   "cell_type": "code",
   "execution_count": 6,
   "metadata": {},
   "outputs": [
    {
     "name": "stdout",
     "output_type": "stream",
     "text": [
      "Your List of Tupple::::::: [(5, 10, 15, 20, 25), (2, 4, 6, 8, 10)]\n"
     ]
    }
   ],
   "source": [
    "L = [(5,10,15,20,25),(2,4,6,8,10),(-3,6,-9,12,-15)]\n",
    "\n",
    "T=[]\n",
    "\n",
    "for i in L:\n",
    "    count=1\n",
    "    for j in i:\n",
    "        if j>0:\n",
    "            count+=1\n",
    "            if(count==len(i)):\n",
    "                T.append(i) \n",
    "\n",
    "print(\"Your List of Tupple:::::::\",T)\n"
   ]
  },
  {
   "cell_type": "markdown",
   "metadata": {},
   "source": [
    "### 06) WAP to add tuple to list and vice – versa."
   ]
  },
  {
   "cell_type": "code",
   "execution_count": 5,
   "metadata": {},
   "outputs": [
    {
     "name": "stdout",
     "output_type": "stream",
     "text": [
      "[(1, 2, 3, 4, 5, 6), (4, 5, 6, 7, 8, 9)]\n"
     ]
    }
   ],
   "source": [
    "l=[]\n",
    "\n",
    "t1=(1,2,3,4,5,6)\n",
    "t2=(4,5,6,7,8,9)\n",
    "\n",
    "l.append(t1)\n",
    "l.append(t2)\n",
    "\n",
    "print(l)\n"
   ]
  },
  {
   "cell_type": "markdown",
   "metadata": {},
   "source": [
    "### 07) WAP to remove tuples of length K."
   ]
  },
  {
   "cell_type": "code",
   "execution_count": 4,
   "metadata": {},
   "outputs": [
    {
     "name": "stdout",
     "output_type": "stream",
     "text": [
      "[(1, 2, 3, 4, 5)]\n"
     ]
    }
   ],
   "source": [
    "L=[(1,2,3,4,5),(1,2)]\n",
    "L1=[]\n",
    "k=int(input(\"enter lenght element: \"))\n",
    "for i in L:\n",
    "    if(len(i)!=k):\n",
    "        L1.append(i)\n",
    "print(L1)    "
   ]
  },
  {
   "cell_type": "markdown",
   "metadata": {},
   "source": [
    "### 08) WAP to remove duplicates from tuple."
   ]
  },
  {
   "cell_type": "code",
   "execution_count": 38,
   "metadata": {},
   "outputs": [
    {
     "name": "stdout",
     "output_type": "stream",
     "text": [
      "{1, 2, 3, 4, 5, 6, 7, 8, 9, 74}\n"
     ]
    }
   ],
   "source": [
    "t=(1,2,3,4,5,6,7,8,9,4,6,74,)\n",
    "\n",
    "s=set(t)\n",
    "\n",
    "print(s)"
   ]
  },
  {
   "cell_type": "markdown",
   "metadata": {},
   "source": [
    "### 09) WAP to multiply adjacent elements of a tuple and print that resultant tuple."
   ]
  },
  {
   "cell_type": "code",
   "execution_count": 55,
   "metadata": {},
   "outputs": [
    {
     "name": "stdout",
     "output_type": "stream",
     "text": [
      "[2, 6, 12, 20, 30]\n"
     ]
    }
   ],
   "source": [
    "t1=(1,2,3,4,5,6)\n",
    "l =[]\n",
    "for i in range(len(t1)-1):\n",
    "    l.append(t1[i]*t1[i+1])\n",
    "\n",
    "print(l)        "
   ]
  },
  {
   "cell_type": "markdown",
   "metadata": {},
   "source": [
    "### 10) WAP to test if the given tuple is distinct or not."
   ]
  },
  {
   "cell_type": "code",
   "execution_count": 2,
   "metadata": {},
   "outputs": [
    {
     "name": "stdout",
     "output_type": "stream",
     "text": [
      "distinct\n"
     ]
    }
   ],
   "source": [
    "t1 = (1,2,3,4,5)\n",
    "flag = True\n",
    "\n",
    "for i in t1:\n",
    "        if t1.count(i)!=1:\n",
    "            flag=False\n",
    "if flag:\n",
    "    print(\"distinct\")\n",
    "else:\n",
    "    print(\"not distinct\")"
   ]
  }
 ],
 "metadata": {
  "kernelspec": {
   "display_name": "Python 3",
   "language": "python",
   "name": "python3"
  },
  "language_info": {
   "codemirror_mode": {
    "name": "ipython",
    "version": 3
   },
   "file_extension": ".py",
   "mimetype": "text/x-python",
   "name": "python",
   "nbconvert_exporter": "python",
   "pygments_lexer": "ipython3",
   "version": "3.13.0"
  }
 },
 "nbformat": 4,
 "nbformat_minor": 4
}
