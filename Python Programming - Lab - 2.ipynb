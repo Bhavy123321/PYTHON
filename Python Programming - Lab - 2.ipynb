{
 "cells": [
  {
   "cell_type": "markdown",
   "metadata": {},
   "source": [
    "\n",
    "<a href='https://www.darshan.ac.in/'> <img src='https://www.darshan.ac.in/Content/media/DU_Logo.svg' width=\"250\" height=\"300\"/></a>\n",
    "<pre>\n",
    "<center><b><h1>Python Programming - 2301CS404</b></center>\n",
    "<center><b><h1>Lab - 2</b></center> \n",
    "    <center><b><h1>Bhavy Soni</b></center>    \n",
    "    <center><b><h1>23010101258</b></center>    \n",
    "    <center><b><h1>04-12-2024</b></center>    \n",
    "<pre>"
   ]
  },
  {
   "cell_type": "markdown",
   "metadata": {},
   "source": [
    "# if..else.."
   ]
  },
  {
   "cell_type": "markdown",
   "metadata": {},
   "source": [
    "### 01) WAP to check whether the given number is positive or negative."
   ]
  },
  {
   "cell_type": "code",
   "execution_count": 3,
   "metadata": {},
   "outputs": [
    {
     "name": "stdout",
     "output_type": "stream",
     "text": [
      "Enter value of a  -2\n"
     ]
    },
    {
     "name": "stdout",
     "output_type": "stream",
     "text": [
      "Number is negative\n"
     ]
    }
   ],
   "source": [
    "a = int(input(\"Enter value of a \"))\n",
    "if(a>0):\n",
    "    print(\"Number is possitive\")\n",
    "else:\n",
    "    print(\"Number is negative\")"
   ]
  },
  {
   "cell_type": "markdown",
   "metadata": {},
   "source": [
    "### 02) WAP to check whether the given number is odd or even."
   ]
  },
  {
   "cell_type": "code",
   "execution_count": 19,
   "metadata": {},
   "outputs": [
    {
     "name": "stdout",
     "output_type": "stream",
     "text": [
      "Enter a digit  14\n"
     ]
    },
    {
     "name": "stdout",
     "output_type": "stream",
     "text": [
      "Entered number is even\n"
     ]
    }
   ],
   "source": [
    "x = int(input(\"Enter a digit \"))\n",
    "if(x%2==0):\n",
    "    print(\"Entered number is even\")\n",
    "else:\n",
    "    print(\"Entered number is odd\")"
   ]
  },
  {
   "cell_type": "markdown",
   "metadata": {},
   "source": [
    "### 03) WAP to find out largest number from given two numbers using simple if and ternary operator."
   ]
  },
  {
   "cell_type": "code",
   "execution_count": 27,
   "metadata": {},
   "outputs": [
    {
     "name": "stdout",
     "output_type": "stream",
     "text": [
      "Enter value of a  15\n",
      "Enter value of b  28\n"
     ]
    },
    {
     "name": "stdout",
     "output_type": "stream",
     "text": [
      "b is largest\n"
     ]
    }
   ],
   "source": [
    "a = int(input(\"Enter value of a \"))\n",
    "b = int(input(\"Enter value of b \"))\n",
    "\n",
    "'''if(a>b):\n",
    "    print(\"a is largest number\")\n",
    "else:\n",
    "    print(\"b is largest\")'''\n",
    "print(\"a is largest\") if(a>b) else print(\"b is largest\")"
   ]
  },
  {
   "cell_type": "markdown",
   "metadata": {},
   "source": [
    "### 04) WAP to find out largest number from given three numbers."
   ]
  },
  {
   "cell_type": "code",
   "execution_count": 31,
   "metadata": {},
   "outputs": [
    {
     "name": "stdout",
     "output_type": "stream",
     "text": [
      "Enter value of a  15\n",
      "Enter value of b  13\n",
      "Enter value of c  2\n"
     ]
    },
    {
     "name": "stdout",
     "output_type": "stream",
     "text": [
      "a is largest\n"
     ]
    }
   ],
   "source": [
    "a = int(input(\"Enter value of a \"))\n",
    "b = int(input(\"Enter value of b \"))\n",
    "c = int(input(\"Enter value of c \"))\n",
    "if(b>a):\n",
    "    if(b>c):\n",
    "        print(\"b is largest\")\n",
    "    else:\n",
    "        print(\"c is largest\")\n",
    "else:\n",
    "    print(\"a is largest\")"
   ]
  },
  {
   "cell_type": "markdown",
   "metadata": {},
   "source": [
    "### 05) WAP to check whether the given year is leap year or not.\n",
    "[If a year can be divisible by 4 but not divisible by 100 then it is leap year but if it is divisible by 400 then it is leap year]"
   ]
  },
  {
   "cell_type": "code",
   "execution_count": 89,
   "metadata": {},
   "outputs": [
    {
     "name": "stdout",
     "output_type": "stream",
     "text": [
      "Enter a year 2016\n"
     ]
    },
    {
     "name": "stdout",
     "output_type": "stream",
     "text": [
      "Entered year is leap year\n"
     ]
    }
   ],
   "source": [
    "x = int(input(\"Enter a year\"))\n",
    "if(x%4==0 and x%100!=0 or x%400==0):\n",
    "    print(\"Entered year is leap year\")\n",
    "else:\n",
    "    print(\"Entered year is not a leap year\")"
   ]
  },
  {
   "cell_type": "markdown",
   "metadata": {},
   "source": [
    "06) WAP in python to display the name of the day according to the number given by the user."
   ]
  },
  {
   "cell_type": "code",
   "execution_count": 53,
   "metadata": {},
   "outputs": [
    {
     "name": "stdout",
     "output_type": "stream",
     "text": [
      "Enter number between 1 to 6  1\n"
     ]
    },
    {
     "name": "stdout",
     "output_type": "stream",
     "text": [
      "Monday\n"
     ]
    }
   ],
   "source": [
    "x= int(input(\"Enter number between 1 to 7 \"))\n",
    "match(x):\n",
    "    case 1:\n",
    "        print(\"Monday\")\n",
    "    case 2:\n",
    "        print(\"Tuesday\")    \n",
    "    case 3:\n",
    "        print(\"Wednesday\")    \n",
    "    case 4:\n",
    "        print(\"Thursday\")    \n",
    "    case 5:\n",
    "        print(\"Friday\")    \n",
    "    case 6:\n",
    "        print(\"Saturday\")    \n",
    "    case 6:\n",
    "        print(\"Saturday\")    \n",
    "    case _:\n",
    "        print(\"Plaese enter valid number\")    "
   ]
  },
  {
   "cell_type": "markdown",
   "metadata": {},
   "source": [
    "### 07) WAP to implement simple calculator which performs (add,sub,mul,div) of two no. based on user input."
   ]
  },
  {
   "cell_type": "code",
   "execution_count": 61,
   "metadata": {},
   "outputs": [
    {
     "name": "stdout",
     "output_type": "stream",
     "text": [
      "Enter the value of 1st digit  14\n",
      "Enter the value of 2nd digit  2\n",
      "Enter your operation /\n"
     ]
    },
    {
     "name": "stdout",
     "output_type": "stream",
     "text": [
      "Division of two numbers is 7.0\n"
     ]
    }
   ],
   "source": [
    "x = int(input(\"Enter the value of 1st digit \"))\n",
    "y = int(input(\"Enter the value of 2nd digit \"))\n",
    "\n",
    "ch = input(\"Enter your operation\")\n",
    "\n",
    "match ch:\n",
    "    case '+':\n",
    "        print(\"Addition of two numbers is\",x+y)\n",
    "    case '*':\n",
    "        print(\"Multiplication of two numbers is\",x*y)\n",
    "    case '-':\n",
    "        print(\"Subtraction of two numbers is\",x-y)\n",
    "    case '/':\n",
    "        print(\"Division of two numbers is\",x/y)\n",
    "    case _:\n",
    "        print(\"plaese enter valid operation\")"
   ]
  },
  {
   "cell_type": "markdown",
   "metadata": {},
   "source": [
    "### 08) WAP to read marks of five subjects. Calculate percentage and print class accordingly. \n",
    "Fail below 35 </br>\n",
    "Pass Class between 35 to 45 </br>\n",
    "Second Class</br>\n",
    "between 45 to 60</br>\n",
    "First Class between 60 to 70</br> \n",
    "Distinction if more than 70"
   ]
  },
  {
   "cell_type": "code",
   "execution_count": 65,
   "metadata": {},
   "outputs": [
    {
     "name": "stdout",
     "output_type": "stream",
     "text": [
      "Enter marks of 1st subject  50\n",
      "Enter marks of 2nd subject  50\n",
      "Enter marks of 3rd subject  50\n",
      "Enter marks of 4th subject  50\n",
      "Enter marks of 5th subject  50\n"
     ]
    },
    {
     "name": "stdout",
     "output_type": "stream",
     "text": [
      "Second Class\n"
     ]
    }
   ],
   "source": [
    "A = int(input(\"Enter marks of 1st subject \"))\n",
    "B = int(input(\"Enter marks of 2nd subject \"))\n",
    "C = int(input(\"Enter marks of 3rd subject \"))\n",
    "D = int(input(\"Enter marks of 4th subject \"))\n",
    "E = int(input(\"Enter marks of 5th subject \"))\n",
    "\n",
    "per = (A+B+C+D+E)/5\n",
    "\n",
    "if(per<35):\n",
    "    print(\"OOOOPPSSSSSSSSS YOU ARE FAIL!!!!!!!!!!!!!!!!!!!!!!!\")\n",
    "elif(35<per<45):\n",
    "    print(\"PASS\")\n",
    "elif(45<per<60):\n",
    "    print(\"Second Class\")\n",
    "elif(60<per<70):\n",
    "    print(\"First Class\")\n",
    "else:\n",
    "    print(\"Distinction\")"
   ]
  },
  {
   "cell_type": "markdown",
   "metadata": {},
   "source": [
    "09) Three sides of a triangle are entered through the keyboard, WAP to check whether the triangle is isosceles, equilateral, scalene or right-angled triangle."
   ]
  },
  {
   "cell_type": "code",
   "execution_count": null,
   "metadata": {},
   "outputs": [
    {
     "name": "stdout",
     "output_type": "stream",
     "text": [
      "Scalene triengle\n"
     ]
    }
   ],
   "source": [
    "A = int(input(\"Enter 1st side of tringle \"))\n",
    "B = int(input(\"Enter 2nd side of tringle \"))\n",
    "C = int(input(\"Enter 3rd side of tringle \"))\n",
    "\n",
    "if(A==B and B==C):\n",
    "    print(\"it's equilateral triangle\")\n",
    "elif(A==B or B==C or A==C):\n",
    "    print(\"it's isosceles triangle\")\n",
    "elif(A!=B and B!=C):\n",
    "    print(\"Scalene triengle\")\n",
    "else:\n",
    "    print(\"Right-angle triangle\")        \n",
    "       "
   ]
  },
  {
   "cell_type": "markdown",
   "metadata": {},
   "source": [
    "### 10) WAP to find the second largest number among three user input numbers."
   ]
  },
  {
   "cell_type": "code",
   "execution_count": null,
   "metadata": {},
   "outputs": [],
   "source": [
    "a = int(input(\"Enter value of a \"))\n",
    "b = int(input(\"Enter value of b \"))\n",
    "c = int(input(\"Enter value of c \"))\n",
    "\n",
    "if(a>b):\n",
    "    if(b>c):\n",
    "        print(b,\"is second largest\")\n",
    "    else:\n",
    "        if(a>c):\n",
    "            print(c,\"is secong largest\")\n",
    "        else:\n",
    "            print(a,\"is second largest\")\n",
    "else:\n",
    "    if(a>c):\n",
    "        print(a,\"is second largest\")\n",
    "    else:\n",
    "        if(b>c):\n",
    "            print(c,\"is second largest\")\n",
    "\n",
    "        else:\n",
    "           print(b,\"is second largest\")\n",
    "                           "
   ]
  },
  {
   "cell_type": "markdown",
   "metadata": {},
   "source": [
    "### 11) WAP to calculate electricity bill based on following criteria. Which takes the unit from the user.\n",
    "a. First 1 to 50 units – Rs. 2.60/unit</br>\n",
    "b. Next 50 to 100 units – Rs. 3.25/unit</br>\n",
    "c. Next 100 to 200 units – Rs. 5.26/unit</br>\n",
    "d. above 200 units – Rs. 8.45/unit"
   ]
  },
  {
   "cell_type": "code",
   "execution_count": 5,
   "metadata": {},
   "outputs": [],
   "source": [
    "u = int(input(\"Enter unit: \"))\n",
    "rs = 0.0\n",
    "\n",
    "if(u>=1 and u<50):\n",
    "    rs = u*2.60\n",
    "elif(u>=50 and u<100):\n",
    "    rs=50*2.60 + (u-50)*3.25\n",
    "elif(u>=100 and u<200):\n",
    "    rs=50*2.60 + 50*3.25 + (u-100)*5.26\n",
    "else:\n",
    "    rs=50*2.60 + 50*3.25 + 100*5.26 + (u-200)*8.45\n",
    "\n"
   ]
  }
 ],
 "metadata": {
  "kernelspec": {
   "display_name": "Python 3",
   "language": "python",
   "name": "python3"
  },
  "language_info": {
   "codemirror_mode": {
    "name": "ipython",
    "version": 3
   },
   "file_extension": ".py",
   "mimetype": "text/x-python",
   "name": "python",
   "nbconvert_exporter": "python",
   "pygments_lexer": "ipython3",
   "version": "3.13.0"
  }
 },
 "nbformat": 4,
 "nbformat_minor": 4
}
